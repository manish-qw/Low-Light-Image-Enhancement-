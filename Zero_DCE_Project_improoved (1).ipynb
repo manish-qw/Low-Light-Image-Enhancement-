{
  "nbformat": 4,
  "nbformat_minor": 0,
  "metadata": {
    "colab": {
      "provenance": [],
      "gpuType": "V28"
    },
    "kernelspec": {
      "name": "python3",
      "display_name": "Python 3"
    },
    "language_info": {
      "name": "python"
    },
    "accelerator": "TPU"
  },
  "cells": [
    {
      "cell_type": "code",
      "execution_count": null,
      "metadata": {
        "id": "5oEKEIkad1eh"
      },
      "outputs": [],
      "source": [
        "import os\n",
        "\n",
        "os.environ[\"KERAS_BACKEND\"] = \"tensorflow\"\n",
        "\n",
        "import random\n",
        "import numpy as np\n",
        "from glob import glob\n",
        "from PIL import Image, ImageOps\n",
        "import matplotlib.pyplot as plt\n",
        "\n",
        "import keras\n",
        "from keras import layers\n",
        "\n",
        "import tensorflow as tf"
      ]
    },
    {
      "cell_type": "code",
      "source": [
        "!wget https://huggingface.co/datasets/geekyrakshit/LoL-Dataset/resolve/main/lol_dataset.zip\n",
        "!unzip -q lol_dataset.zip && rm lol_dataset.zip"
      ],
      "metadata": {
        "colab": {
          "base_uri": "https://localhost:8080/",
          "height": 0
        },
        "id": "fszQL1p9eHu4",
        "outputId": "5d4b6439-a211-4834-ae0c-82ed8da676d4"
      },
      "execution_count": null,
      "outputs": [
        {
          "metadata": {
            "tags": null
          },
          "name": "stdout",
          "output_type": "stream",
          "text": [
            "--2025-06-20 13:57:55--  https://huggingface.co/datasets/geekyrakshit/LoL-Dataset/resolve/main/lol_dataset.zip\n",
            "Resolving huggingface.co (huggingface.co)... 3.166.152.105, 3.166.152.65, 3.166.152.44, ...\n",
            "Connecting to huggingface.co (huggingface.co)|3.166.152.105|:443... connected.\n",
            "HTTP request sent, awaiting response... 302 Found\n",
            "Location: https://cdn-lfs.hf.co/repos/d9/09/d909ef7668bb417b7065a311bd55a3084cc83a1f918e13cb41c5503328432db2/419fddc48958cd0f5599939ee0248852a37ceb8bb738c9b9525e95b25a89de9a?response-content-disposition=inline%3B+filename*%3DUTF-8%27%27lol_dataset.zip%3B+filename%3D%22lol_dataset.zip%22%3B&response-content-type=application%2Fzip&Expires=1750431475&Policy=eyJTdGF0ZW1lbnQiOlt7IkNvbmRpdGlvbiI6eyJEYXRlTGVzc1RoYW4iOnsiQVdTOkVwb2NoVGltZSI6MTc1MDQzMTQ3NX19LCJSZXNvdXJjZSI6Imh0dHBzOi8vY2RuLWxmcy5oZi5jby9yZXBvcy9kOS8wOS9kOTA5ZWY3NjY4YmI0MTdiNzA2NWEzMTFiZDU1YTMwODRjYzgzYTFmOTE4ZTEzY2I0MWM1NTAzMzI4NDMyZGIyLzQxOWZkZGM0ODk1OGNkMGY1NTk5OTM5ZWUwMjQ4ODUyYTM3Y2ViOGJiNzM4YzliOTUyNWU5NWIyNWE4OWRlOWE%7EcmVzcG9uc2UtY29udGVudC1kaXNwb3NpdGlvbj0qJnJlc3BvbnNlLWNvbnRlbnQtdHlwZT0qIn1dfQ__&Signature=RGzBe2fGiuMDw3WPqmrKnb-1xIP7GejQd615gaQh62Slna%7EdW9ZJ6-I4qPaYJDhp8RyCAvONtosYHH%7EFmUUzIJBgYKgZ7BKYh2TW3gWZQAYGik20jKcCYop6bPV%7EYj1M20%7Et2CViqgxVFqYgHhQM79IU06cu1sW590y6VMJWyBa4nZkaaFidH64C4E2Lc-QLPiuNx5yThuive3wsxlWX-6LWSpO3qIaQsAyU3kOenDcRxuVzqrDjONix-lrPoaehNc3iofGXxPxaFHzckZmZjOX1DM7Q4XNG4vXxDY%7E7pAKv9MnN0tJDAmyx94HYQohPEoOhEsYQIb5RlDefFNTEjw__&Key-Pair-Id=K3RPWS32NSSJCE [following]\n",
            "--2025-06-20 13:57:55--  https://cdn-lfs.hf.co/repos/d9/09/d909ef7668bb417b7065a311bd55a3084cc83a1f918e13cb41c5503328432db2/419fddc48958cd0f5599939ee0248852a37ceb8bb738c9b9525e95b25a89de9a?response-content-disposition=inline%3B+filename*%3DUTF-8%27%27lol_dataset.zip%3B+filename%3D%22lol_dataset.zip%22%3B&response-content-type=application%2Fzip&Expires=1750431475&Policy=eyJTdGF0ZW1lbnQiOlt7IkNvbmRpdGlvbiI6eyJEYXRlTGVzc1RoYW4iOnsiQVdTOkVwb2NoVGltZSI6MTc1MDQzMTQ3NX19LCJSZXNvdXJjZSI6Imh0dHBzOi8vY2RuLWxmcy5oZi5jby9yZXBvcy9kOS8wOS9kOTA5ZWY3NjY4YmI0MTdiNzA2NWEzMTFiZDU1YTMwODRjYzgzYTFmOTE4ZTEzY2I0MWM1NTAzMzI4NDMyZGIyLzQxOWZkZGM0ODk1OGNkMGY1NTk5OTM5ZWUwMjQ4ODUyYTM3Y2ViOGJiNzM4YzliOTUyNWU5NWIyNWE4OWRlOWE%7EcmVzcG9uc2UtY29udGVudC1kaXNwb3NpdGlvbj0qJnJlc3BvbnNlLWNvbnRlbnQtdHlwZT0qIn1dfQ__&Signature=RGzBe2fGiuMDw3WPqmrKnb-1xIP7GejQd615gaQh62Slna%7EdW9ZJ6-I4qPaYJDhp8RyCAvONtosYHH%7EFmUUzIJBgYKgZ7BKYh2TW3gWZQAYGik20jKcCYop6bPV%7EYj1M20%7Et2CViqgxVFqYgHhQM79IU06cu1sW590y6VMJWyBa4nZkaaFidH64C4E2Lc-QLPiuNx5yThuive3wsxlWX-6LWSpO3qIaQsAyU3kOenDcRxuVzqrDjONix-lrPoaehNc3iofGXxPxaFHzckZmZjOX1DM7Q4XNG4vXxDY%7E7pAKv9MnN0tJDAmyx94HYQohPEoOhEsYQIb5RlDefFNTEjw__&Key-Pair-Id=K3RPWS32NSSJCE\n",
            "Resolving cdn-lfs.hf.co (cdn-lfs.hf.co)... 18.173.166.43, 18.173.166.89, 18.173.166.94, ...\n",
            "Connecting to cdn-lfs.hf.co (cdn-lfs.hf.co)|18.173.166.43|:443... connected.\n",
            "HTTP request sent, awaiting response... 200 OK\n",
            "Length: 347171015 (331M) [application/zip]\n",
            "Saving to: ‘lol_dataset.zip.1’\n",
            "\n",
            "lol_dataset.zip.1   100%[===================>] 331.09M   127MB/s    in 2.6s    \n",
            "\n",
            "2025-06-20 13:57:58 (127 MB/s) - ‘lol_dataset.zip.1’ saved [347171015/347171015]\n",
            "\n",
            "replace lol_dataset/eval15/high/748.png? [y]es, [n]o, [A]ll, [N]one, [r]ename: "
          ]
        }
      ]
    },
    {
      "cell_type": "code",
      "source": [
        "IMAGE_SIZE = 256\n",
        "BATCH_SIZE = 16\n",
        "MAX_TRAIN_IMAGES = 400\n",
        "\n",
        "\n",
        "def load_data(image_path):\n",
        "    image = tf.io.read_file(image_path)\n",
        "    image = tf.image.decode_png(image, channels=3)\n",
        "    image = tf.image.resize(images=image, size=[IMAGE_SIZE, IMAGE_SIZE])\n",
        "    # this step is normalizing the entire image bringing 8 bit color code in range [0, 1]\n",
        "    image = image / 255.0\n",
        "    return image\n",
        "\n",
        "\n",
        "def data_generator(low_light_images):\n",
        "    dataset = tf.data.Dataset.from_tensor_slices(tf.constant(low_light_images, dtype=tf.string))\n",
        "    dataset = dataset.map(load_data, num_parallel_calls=tf.data.AUTOTUNE)\n",
        "    dataset = dataset.batch(BATCH_SIZE, drop_remainder=True)\n",
        "    return dataset\n",
        "\n",
        "\n",
        "train_low_light_images = sorted(glob(\"./lol_dataset/our485/low/*\"))[:MAX_TRAIN_IMAGES]\n",
        "val_low_light_images = sorted(glob(\"./lol_dataset/our485/low/*\"))[MAX_TRAIN_IMAGES:]\n",
        "test_low_light_images = sorted(glob(\"./lol_dataset/eval15/low/*\"))\n",
        "\n",
        "\n",
        "train_dataset = data_generator(train_low_light_images)\n",
        "val_dataset = data_generator(val_low_light_images)\n",
        "\n",
        "print(\"Train Dataset:\", train_dataset)\n",
        "print(\"Validation Dataset:\", val_dataset)"
      ],
      "metadata": {
        "id": "JsvBUZQ0eLMM"
      },
      "execution_count": null,
      "outputs": []
    },
    {
      "cell_type": "code",
      "source": [
        "from tensorflow import keras\n",
        "from tensorflow.keras import layers\n",
        "import tensorflow as tf\n",
        "\n",
        "def build_dce_net():\n",
        "    input_img = keras.Input(shape=[None, None, 3])\n",
        "\n",
        "    conv1 = layers.Conv2D(32, (3, 3), strides=(1, 1), padding=\"same\")(input_img)\n",
        "    # conv1 = layers.BatchNormalization()(conv1)\n",
        "    conv1 = tf.keras.activations.swish(conv1)\n",
        "\n",
        "    conv2 = layers.Conv2D(32, (3, 3), strides=(1, 1), padding=\"same\")(conv1)\n",
        "    # conv2 = layers.BatchNormalization()(conv2)\n",
        "    conv2 = tf.keras.activations.swish(conv2)\n",
        "\n",
        "    conv3 = layers.Conv2D(32, (3, 3), strides=(1, 1), padding=\"same\")(conv2)\n",
        "    # conv3 = layers.BatchNormalization()(conv3)\n",
        "    conv3 = tf.keras.activations.swish(conv3)\n",
        "\n",
        "    conv4 = layers.Conv2D(32, (3, 3), strides=(1, 1), padding=\"same\")(conv3)\n",
        "    # conv4 = layers.BatchNormalization()(conv4)\n",
        "    conv4 = tf.keras.activations.swish(conv4)\n",
        "\n",
        "    conv5 = layers.Conv2D(32, (3, 3), strides=(1, 1), padding=\"same\")(conv4)\n",
        "    # conv5 = layers.BatchNormalization()(conv5)\n",
        "    conv5 = tf.keras.activations.swish(conv5)\n",
        "\n",
        "    int_con1 = layers.Concatenate(axis=-1)([conv5, conv1])\n",
        "    conv6 = layers.Conv2D(32, (3, 3), strides=(1, 1), padding=\"same\")(int_con1)\n",
        "    conv6 = layers.BatchNormalization()(conv6)\n",
        "    conv6 = tf.keras.activations.swish(conv6)\n",
        "\n",
        "    int_con2 = layers.Concatenate(axis=-1)([conv6, conv2])\n",
        "    conv7 = layers.Conv2D(32, (3, 3), strides=(1, 1), padding=\"same\")(int_con2)\n",
        "    conv7 = layers.BatchNormalization()(conv7)\n",
        "    conv7 = tf.keras.activations.swish(conv7)\n",
        "\n",
        "    int_con3 = layers.Concatenate(axis=-1)([conv7, conv3])\n",
        "    conv8 = layers.Conv2D(32, (3, 3), strides=(1, 1), padding=\"same\")(int_con3)\n",
        "    conv8 = layers.BatchNormalization()(conv8)\n",
        "    conv8 = tf.keras.activations.swish(conv8)\n",
        "\n",
        "    int_con4 = layers.Concatenate(axis=-1)([conv8, conv4])\n",
        "    x_r = layers.Conv2D(24, (3, 3), strides=(1, 1), activation=\"tanh\", padding=\"same\")(int_con4)\n",
        "\n",
        "    return keras.Model(inputs=input_img, outputs=x_r)\n"
      ],
      "metadata": {
        "id": "dIPgjG8ngM-W"
      },
      "execution_count": null,
      "outputs": []
    },
    {
      "cell_type": "code",
      "source": [
        "def color_constancy_loss(x):\n",
        "    mean_rgb = tf.reduce_mean(x, axis=(1, 2), keepdims=True)\n",
        "    mr, mg, mb = (\n",
        "        mean_rgb[:, :, :, 0],\n",
        "        mean_rgb[:, :, :, 1],\n",
        "        mean_rgb[:, :, :, 2],\n",
        "    )\n",
        "    d_rg = tf.square(mr - mg)\n",
        "    d_rb = tf.square(mr - mb)\n",
        "    d_gb = tf.square(mb - mg)\n",
        "    return tf.sqrt(tf.square(d_rg) + tf.square(d_rb) + tf.square(d_gb))"
      ],
      "metadata": {
        "id": "EWT5kH5-1s9m"
      },
      "execution_count": null,
      "outputs": []
    },
    {
      "cell_type": "code",
      "source": [
        "def exposure_loss(x, mean_val=0.56):\n",
        "  # mean_val is change from 0.6 to 0.56\n",
        "    x = tf.reduce_mean(x, axis=3, keepdims=True)\n",
        "    mean = tf.nn.avg_pool2d(x, ksize=16, strides=16, padding=\"VALID\")\n",
        "    return tf.reduce_mean(tf.square(mean - mean_val))"
      ],
      "metadata": {
        "id": "MXBAXGE52cZN"
      },
      "execution_count": null,
      "outputs": []
    },
    {
      "cell_type": "code",
      "source": [
        "def illumination_smoothness_loss(x):\n",
        "    batch_size = tf.shape(x)[0]\n",
        "    h_x = tf.shape(x)[1]\n",
        "    w_x = tf.shape(x)[2]\n",
        "    count_h = (tf.shape(x)[2] - 1) * tf.shape(x)[3]\n",
        "    count_w = tf.shape(x)[2] * (tf.shape(x)[3] - 1)\n",
        "    h_tv = tf.reduce_sum(tf.square((x[:, 1:, :, :] - x[:, : h_x - 1, :, :])))\n",
        "    w_tv = tf.reduce_sum(tf.square((x[:, :, 1:, :] - x[:, :, : w_x - 1, :])))\n",
        "    batch_size = tf.cast(batch_size, dtype=tf.float32)\n",
        "    count_h = tf.cast(count_h, dtype=tf.float32)\n",
        "    count_w = tf.cast(count_w, dtype=tf.float32)\n",
        "    return 2 * (h_tv / count_h + w_tv / count_w) / batch_size"
      ],
      "metadata": {
        "id": "06-KxTa14d0l"
      },
      "execution_count": null,
      "outputs": []
    },
    {
      "cell_type": "code",
      "source": [
        "class SpatialConsistencyLoss(keras.losses.Loss):\n",
        "    def __init__(self, **kwargs):\n",
        "        super().__init__(reduction=\"none\")\n",
        "\n",
        "        self.left_kernel = tf.constant(\n",
        "            [[[[0, 0, 0]], [[-1, 1, 0]], [[0, 0, 0]]]], dtype=tf.float32\n",
        "        )\n",
        "        self.right_kernel = tf.constant(\n",
        "            [[[[0, 0, 0]], [[0, 1, -1]], [[0, 0, 0]]]], dtype=tf.float32\n",
        "        )\n",
        "        self.up_kernel = tf.constant(\n",
        "            [[[[0, -1, 0]], [[0, 1, 0]], [[0, 0, 0]]]], dtype=tf.float32\n",
        "        )\n",
        "        self.down_kernel = tf.constant(\n",
        "            [[[[0, 0, 0]], [[0, 1, 0]], [[0, -1, 0]]]], dtype=tf.float32\n",
        "        )\n",
        "\n",
        "    def call(self, y_true, y_pred):\n",
        "        original_mean = tf.reduce_mean(y_true, 3, keepdims=True)\n",
        "        enhanced_mean = tf.reduce_mean(y_pred, 3, keepdims=True)\n",
        "        original_pool = tf.nn.avg_pool2d(\n",
        "            original_mean, ksize=4, strides=4, padding=\"VALID\"\n",
        "        )\n",
        "        enhanced_pool = tf.nn.avg_pool2d(\n",
        "            enhanced_mean, ksize=4, strides=4, padding=\"VALID\"\n",
        "        )\n",
        "\n",
        "        d_original_left = tf.nn.conv2d(\n",
        "            original_pool,\n",
        "            self.left_kernel,\n",
        "            strides=[1, 1, 1, 1],\n",
        "            padding=\"SAME\",\n",
        "        )\n",
        "        d_original_right = tf.nn.conv2d(\n",
        "            original_pool,\n",
        "            self.right_kernel,\n",
        "            strides=[1, 1, 1, 1],\n",
        "            padding=\"SAME\",\n",
        "        )\n",
        "        d_original_up = tf.nn.conv2d(\n",
        "            original_pool, self.up_kernel, strides=[1, 1, 1, 1], padding=\"SAME\"\n",
        "        )\n",
        "        d_original_down = tf.nn.conv2d(\n",
        "            original_pool,\n",
        "            self.down_kernel,\n",
        "            strides=[1, 1, 1, 1],\n",
        "            padding=\"SAME\",\n",
        "        )\n",
        "\n",
        "        d_enhanced_left = tf.nn.conv2d(\n",
        "            enhanced_pool,\n",
        "            self.left_kernel,\n",
        "            strides=[1, 1, 1, 1],\n",
        "            padding=\"SAME\",\n",
        "        )\n",
        "        d_enhanced_right = tf.nn.conv2d(\n",
        "            enhanced_pool,\n",
        "            self.right_kernel,\n",
        "            strides=[1, 1, 1, 1],\n",
        "            padding=\"SAME\",\n",
        "        )\n",
        "        d_enhanced_up = tf.nn.conv2d(\n",
        "            enhanced_pool, self.up_kernel, strides=[1, 1, 1, 1], padding=\"SAME\"\n",
        "        )\n",
        "        d_enhanced_down = tf.nn.conv2d(\n",
        "            enhanced_pool,\n",
        "            self.down_kernel,\n",
        "            strides=[1, 1, 1, 1],\n",
        "            padding=\"SAME\",\n",
        "        )\n",
        "\n",
        "        d_left = tf.square(d_original_left - d_enhanced_left)\n",
        "        d_right = tf.square(d_original_right - d_enhanced_right)\n",
        "        d_up = tf.square(d_original_up - d_enhanced_up)\n",
        "        d_down = tf.square(d_original_down - d_enhanced_down)\n",
        "        return d_left + d_right + d_up + d_down"
      ],
      "metadata": {
        "id": "Eizx7gp94dvF"
      },
      "execution_count": null,
      "outputs": []
    },
    {
      "cell_type": "code",
      "source": [
        "class ZeroDCE(keras.Model):\n",
        "    def __init__(self, **kwargs):\n",
        "      # make a architure of zero-dce net :\n",
        "        super().__init__(**kwargs)\n",
        "        self.dce_model = build_dce_net()\n",
        "\n",
        "    def compile(self, learning_rate, **kwargs):\n",
        "        super().compile(**kwargs)\n",
        "        # here we making the varibale we need further.\n",
        "        self.optimizer = keras.optimizers.Adam(learning_rate=learning_rate)\n",
        "        self.spatial_constancy_loss = SpatialConsistencyLoss(reduction=\"none\")\n",
        "        self.total_loss_tracker = keras.metrics.Mean(name=\"total_loss\")\n",
        "        self.illumination_smoothness_loss_tracker = keras.metrics.Mean(\n",
        "            name=\"illumination_smoothness_loss\"\n",
        "        )\n",
        "        self.spatial_constancy_loss_tracker = keras.metrics.Mean(\n",
        "            name=\"spatial_constancy_loss\"\n",
        "        )\n",
        "        self.color_constancy_loss_tracker = keras.metrics.Mean(\n",
        "            name=\"color_constancy_loss\"\n",
        "        )\n",
        "        self.exposure_loss_tracker = keras.metrics.Mean(name=\"exposure_loss\")\n",
        "\n",
        "    @property\n",
        "    def metrics(self):\n",
        "        return [\n",
        "            self.total_loss_tracker,\n",
        "            self.illumination_smoothness_loss_tracker,\n",
        "            self.spatial_constancy_loss_tracker,\n",
        "            self.color_constancy_loss_tracker,\n",
        "            self.exposure_loss_tracker,\n",
        "        ]\n",
        "\n",
        "    def get_enhanced_image(self, data, output):\n",
        "      # there below are the dce-net output ->> 24 parameter in a pair of 3(RGB) channel\n",
        "      # complete batch, all row, all col, RGB(3 channel output), output from dce-net in 8 iteration\n",
        "      # these below are the parameter map\n",
        "        r1 = output[:, :, :, :3]\n",
        "        r2 = output[:, :, :, 3:6]\n",
        "        r3 = output[:, :, :, 6:9]\n",
        "        r4 = output[:, :, :, 9:12]\n",
        "        r5 = output[:, :, :, 12:15]\n",
        "        r6 = output[:, :, :, 15:18]\n",
        "        r7 = output[:, :, :, 18:21]\n",
        "        r8 = output[:, :, :, 21:24]\n",
        "\n",
        "        # formula of update is :\n",
        "        # i go from 2 to 9., r is parameteric map\n",
        "        # I(i)(x, y, c) = I(i)(x, y, c) + r(i)*I(i-1)(x, y, c)*(1 - I(i-1)(x, y, c))\n",
        "        # modified as that is used below is :\n",
        "        #  I(i) = I(i-1) + r(i) * (I(i-1)^2 - I(i-1))-----> same as above\n",
        "        # data can assumed to be our original image,\n",
        "        # thise data is just color code of three channel, but /255(to bring in range[0,1])\n",
        "        x = data + r1 * (tf.square(data) - data)\n",
        "        x = x + r2 * (tf.square(x) - x)\n",
        "        x = x + r3 * (tf.square(x) - x)\n",
        "        enhanced_image = x + r4 * (tf.square(x) - x)\n",
        "        x = enhanced_image + r5 * (tf.square(enhanced_image) - enhanced_image)\n",
        "        x = x + r6 * (tf.square(x) - x)\n",
        "        x = x + r7 * (tf.square(x) - x)\n",
        "        enhanced_image = x + r8 * (tf.square(x) - x)\n",
        "        return enhanced_image\n",
        "\n",
        "    def call(self, data):\n",
        "        dce_net_output = self.dce_model(data)\n",
        "        # i got parameter map from buid_dce_model,\n",
        "        # now i send those paramter to get_enhanced_image, and i get enhanced image\n",
        "        return self.get_enhanced_image(data, dce_net_output)\n",
        "\n",
        "    def compute_losses(self, data, output):\n",
        "        enhanced_image = self.get_enhanced_image(data, output)\n",
        "        # calculate all the losses just by calling there fun.\n",
        "        loss_illumination = 200 * illumination_smoothness_loss(output)\n",
        "        loss_spatial_constancy = tf.reduce_mean(\n",
        "            self.spatial_constancy_loss(enhanced_image, data)\n",
        "        )\n",
        "        loss_color_constancy = 5 * tf.reduce_mean(color_constancy_loss(enhanced_image))\n",
        "        loss_exposure = 10 * tf.reduce_mean(exposure_loss(enhanced_image))\n",
        "        total_loss = (\n",
        "            loss_illumination\n",
        "            + loss_spatial_constancy\n",
        "            + loss_color_constancy\n",
        "            + loss_exposure\n",
        "        )\n",
        "\n",
        "        return {\n",
        "            \"total_loss\": total_loss,\n",
        "            \"illumination_smoothness_loss\": loss_illumination,\n",
        "            \"spatial_constancy_loss\": loss_spatial_constancy,\n",
        "            \"color_constancy_loss\": loss_color_constancy,\n",
        "            \"exposure_loss\": loss_exposure,\n",
        "        }\n",
        "\n",
        "\n",
        "    # Here we perform backprogagration, we call the funtion, we got the output, we got the losses,\n",
        "    #  now we have update those weight accordingly\n",
        "    def train_step(self, data):\n",
        "        with tf.GradientTape() as tape:\n",
        "            output = self.dce_model(data)\n",
        "            losses = self.compute_losses(data, output)\n",
        "\n",
        "        # send the loss, and weights value to tf.Gradient, this will find the gradient of loss funtion\n",
        "        # w.r.t. each weight, use adam optimizer funtion and we store updated weights in gradients\n",
        "        gradients = tape.gradient(\n",
        "            losses[\"total_loss\"], self.dce_model.trainable_weights\n",
        "        )\n",
        "        # now we upadate our weights,\n",
        "        self.optimizer.apply_gradients(zip(gradients, self.dce_model.trainable_weights))\n",
        "\n",
        "        # as weights are updated, now we update the metrics results.\n",
        "        self.total_loss_tracker.update_state(losses[\"total_loss\"])\n",
        "        self.illumination_smoothness_loss_tracker.update_state(\n",
        "            losses[\"illumination_smoothness_loss\"]\n",
        "        )\n",
        "        self.spatial_constancy_loss_tracker.update_state(\n",
        "            losses[\"spatial_constancy_loss\"]\n",
        "        )\n",
        "        self.color_constancy_loss_tracker.update_state(losses[\"color_constancy_loss\"])\n",
        "        self.exposure_loss_tracker.update_state(losses[\"exposure_loss\"])\n",
        "\n",
        "        return {metric.name: metric.result() for metric in self.metrics}\n",
        "\n",
        "    def test_step(self, data):\n",
        "        output = self.dce_model(data)\n",
        "        losses = self.compute_losses(data, output)\n",
        "\n",
        "        # in train part we calculate gradient and updated the weights, here we do not do that,\n",
        "        # just calculate output and calculate the loss and result and return that.\n",
        "\n",
        "        self.total_loss_tracker.update_state(losses[\"total_loss\"])\n",
        "        self.illumination_smoothness_loss_tracker.update_state(\n",
        "            losses[\"illumination_smoothness_loss\"]\n",
        "        )\n",
        "        self.spatial_constancy_loss_tracker.update_state(\n",
        "            losses[\"spatial_constancy_loss\"]\n",
        "        )\n",
        "        self.color_constancy_loss_tracker.update_state(losses[\"color_constancy_loss\"])\n",
        "        self.exposure_loss_tracker.update_state(losses[\"exposure_loss\"])\n",
        "\n",
        "        return {metric.name: metric.result() for metric in self.metrics}\n",
        "\n",
        "    def save_weights(self, filepath, overwrite=True, save_format=None, options=None):\n",
        "        \"\"\"While saving the weights, we simply save the weights of the DCE-Net\"\"\"\n",
        "        self.dce_model.save_weights(\n",
        "            filepath,\n",
        "            overwrite=overwrite,\n",
        "            save_format=save_format,\n",
        "            options=options,\n",
        "        )\n",
        "\n",
        "    def load_weights(self, filepath, by_name=False, skip_mismatch=False, options=None):\n",
        "        \"\"\"While loading the weights, we simply load the weights of the DCE-Net\"\"\"\n",
        "        self.dce_model.load_weights(\n",
        "            filepath=filepath,\n",
        "            by_name=by_name,\n",
        "            skip_mismatch=skip_mismatch,\n",
        "            options=options,\n",
        "        )"
      ],
      "metadata": {
        "id": "BLZr0WowCZ9E"
      },
      "execution_count": null,
      "outputs": []
    },
    {
      "cell_type": "code",
      "source": [
        "zero_dce_model = ZeroDCE()\n",
        "zero_dce_model.compile(learning_rate=1e-4)\n",
        "history = zero_dce_model.fit(train_dataset, validation_data=val_dataset, epochs=50)\n",
        "\n",
        "\n",
        "def plot_result(item):\n",
        "    plt.plot(history.history[item], label=item)\n",
        "    plt.plot(history.history[\"val_\" + item], label=\"val_\" + item)\n",
        "    plt.xlabel(\"Epochs\")\n",
        "    plt.ylabel(item)\n",
        "    plt.title(\"Train and Validation {} Over Epochs\".format(item), fontsize=14)\n",
        "    plt.legend()\n",
        "    plt.grid()\n",
        "    plt.show()\n",
        "\n",
        "\n",
        "plot_result(\"total_loss\")\n",
        "plot_result(\"illumination_smoothness_loss\")\n",
        "plot_result(\"spatial_constancy_loss\")\n",
        "plot_result(\"color_constancy_loss\")\n",
        "plot_result(\"exposure_loss\")"
      ],
      "metadata": {
        "id": "NHQPJi-sDSB5"
      },
      "execution_count": null,
      "outputs": []
    },
    {
      "cell_type": "code",
      "source": [
        "def plot_results(images, titles, figure_size=(12, 12)):\n",
        "    fig = plt.figure(figsize=figure_size)\n",
        "    for i in range(len(images)):\n",
        "        fig.add_subplot(1, len(images), i + 1).set_title(titles[i])\n",
        "        _ = plt.imshow(images[i])\n",
        "        plt.axis(\"off\")\n",
        "    plt.show()\n",
        "\n",
        "\n",
        "def infer(original_image):\n",
        "    image = keras.utils.img_to_array(original_image)\n",
        "    image = image.astype(\"float32\") / 255.0\n",
        "    image = np.expand_dims(image, axis=0)\n",
        "    output_image = zero_dce_model(image)\n",
        "    output_image = tf.cast((output_image[0, :, :, :] * 255), dtype=np.uint8)\n",
        "    output_image = Image.fromarray(output_image.numpy())\n",
        "    return output_image"
      ],
      "metadata": {
        "id": "8Eq6xlgRW47X"
      },
      "execution_count": null,
      "outputs": []
    },
    {
      "cell_type": "code",
      "source": [
        "for val_image_file in test_low_light_images:\n",
        "    original_image = Image.open(val_image_file)\n",
        "    enhanced_image = infer(original_image)\n",
        "    plot_results(\n",
        "        [original_image, ImageOps.autocontrast(original_image), enhanced_image],\n",
        "        [\"Original\", \"PIL Autocontrast\", \"Enhanced\"],\n",
        "        (20, 12),\n",
        "    )"
      ],
      "metadata": {
        "id": "6n12M3QAb891"
      },
      "execution_count": null,
      "outputs": []
    },
    {
      "cell_type": "code",
      "source": [
        "from PIL import Image\n",
        "\n",
        "# Load your custom image (low-light)\n",
        "your_image5 = Image.open(\"/content/image5.jpeg\")"
      ],
      "metadata": {
        "id": "_Fy14roUb_-S"
      },
      "execution_count": null,
      "outputs": []
    },
    {
      "cell_type": "code",
      "source": [
        "# Resize the image to 256x256 before inferencing\n",
        "resized_image5 = your_image5.resize((IMAGE_SIZE, IMAGE_SIZE))\n",
        "enhanced_image5 = infer(resized_image5)"
      ],
      "metadata": {
        "id": "KF3jUDNieRav"
      },
      "execution_count": null,
      "outputs": []
    },
    {
      "cell_type": "code",
      "source": [
        "resized_image5"
      ],
      "metadata": {
        "id": "jCk76fKxffOq"
      },
      "execution_count": null,
      "outputs": []
    },
    {
      "cell_type": "code",
      "source": [
        "enhanced_image5"
      ],
      "metadata": {
        "id": "vJQS6N8BejIX"
      },
      "execution_count": null,
      "outputs": []
    },
    {
      "cell_type": "code",
      "source": [
        "enhanced_image.save(\"enhanced_result.jpg\")"
      ],
      "metadata": {
        "id": "jWNsWiwOe7FQ"
      },
      "execution_count": null,
      "outputs": []
    },
    {
      "cell_type": "code",
      "source": [
        "image3 = Image.open(\"/content/image7.jpeg\")\n",
        "resized_image3 = image3.resize((IMAGE_SIZE, IMAGE_SIZE))\n",
        "resized_image3"
      ],
      "metadata": {
        "id": "_A-NVKNJfFC0"
      },
      "execution_count": null,
      "outputs": []
    },
    {
      "cell_type": "code",
      "source": [
        "enhanced_image3 = infer(resized_image3)"
      ],
      "metadata": {
        "id": "FcXOcnGIgxis"
      },
      "execution_count": null,
      "outputs": []
    },
    {
      "cell_type": "code",
      "source": [
        "enhanced_image3"
      ],
      "metadata": {
        "id": "gCCb6IVVhBP6"
      },
      "execution_count": null,
      "outputs": []
    },
    {
      "cell_type": "code",
      "source": [],
      "metadata": {
        "id": "AiLgTf8QhKxr"
      },
      "execution_count": null,
      "outputs": []
    }
  ]
}